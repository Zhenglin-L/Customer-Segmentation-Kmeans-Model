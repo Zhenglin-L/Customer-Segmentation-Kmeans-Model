{
 "cells": [
  {
   "cell_type": "markdown",
   "metadata": {},
   "source": [
    "# Capstone Project: Create a Customer Segmentation Report for Arvato Financial Services\n",
    "\n",
    "In this project, you will analyze demographics data for customers of a mail-order sales company in Germany, comparing it against demographics information for the general population. You'll use unsupervised learning techniques to perform customer segmentation, identifying the parts of the population that best describe the core customer base of the company. Then, you'll apply what you've learned on a third dataset with demographics information for targets of a marketing campaign for the company, and use a model to predict which individuals are most likely to convert into becoming customers for the company. The data that you will use has been provided by our partners at Bertelsmann Arvato Analytics, and represents a real-life data science task.\n",
    "\n",
    "If you completed the first term of this program, you will be familiar with the first part of this project, from the unsupervised learning project. The versions of those two datasets used in this project will include many more features and has not been pre-cleaned. You are also free to choose whatever approach you'd like to analyzing the data rather than follow pre-determined steps. In your work on this project, make sure that you carefully document your steps and decisions, since your main deliverable for this project will be a blog post reporting your findings."
   ]
  },
  {
   "cell_type": "code",
   "execution_count": 1,
   "metadata": {},
   "outputs": [],
   "source": [
    "# import libraries here; add more as necessary\n",
    "import numpy as np\n",
    "import pandas as pd\n",
    "import matplotlib.pyplot as plt\n",
    "import seaborn as sns\n",
    "\n",
    "# magic word for producing visualizations in notebook\n",
    "%matplotlib inline"
   ]
  },
  {
   "cell_type": "markdown",
   "metadata": {},
   "source": [
    "## Part 0: Get to Know the Data\n",
    "\n",
    "There are four data files associated with this project:\n",
    "\n",
    "- `Udacity_AZDIAS_052018.csv`: Demographics data for the general population of Germany; 891 211 persons (rows) x 366 features (columns).\n",
    "- `Udacity_CUSTOMERS_052018.csv`: Demographics data for customers of a mail-order company; 191 652 persons (rows) x 369 features (columns).\n",
    "- `Udacity_MAILOUT_052018_TRAIN.csv`: Demographics data for individuals who were targets of a marketing campaign; 42 982 persons (rows) x 367 (columns).\n",
    "- `Udacity_MAILOUT_052018_TEST.csv`: Demographics data for individuals who were targets of a marketing campaign; 42 833 persons (rows) x 366 (columns).\n",
    "\n",
    "Each row of the demographics files represents a single person, but also includes information outside of individuals, including information about their household, building, and neighborhood. Use the information from the first two files to figure out how customers (\"CUSTOMERS\") are similar to or differ from the general population at large (\"AZDIAS\"), then use your analysis to make predictions on the other two files (\"MAILOUT\"), predicting which recipients are most likely to become a customer for the mail-order company.\n",
    "\n",
    "The \"CUSTOMERS\" file contains three extra columns ('CUSTOMER_GROUP', 'ONLINE_PURCHASE', and 'PRODUCT_GROUP'), which provide broad information about the customers depicted in the file. The original \"MAILOUT\" file included one additional column, \"RESPONSE\", which indicated whether or not each recipient became a customer of the company. For the \"TRAIN\" subset, this column has been retained, but in the \"TEST\" subset it has been removed; it is against that withheld column that your final predictions will be assessed in the Kaggle competition.\n",
    "\n",
    "Otherwise, all of the remaining columns are the same between the three data files. For more information about the columns depicted in the files, you can refer to two Excel spreadsheets provided in the workspace. [One of them](./DIAS Information Levels - Attributes 2017.xlsx) is a top-level list of attributes and descriptions, organized by informational category. [The other](./DIAS Attributes - Values 2017.xlsx) is a detailed mapping of data values for each feature in alphabetical order.\n",
    "\n",
    "In the below cell, we've provided some initial code to load in the first two datasets. Note for all of the `.csv` data files in this project that they're semicolon (`;`) delimited, so an additional argument in the [`read_csv()`](https://pandas.pydata.org/pandas-docs/stable/generated/pandas.read_csv.html) call has been included to read in the data properly. Also, considering the size of the datasets, it may take some time for them to load completely.\n",
    "\n",
    "You'll notice when the data is loaded in that a warning message will immediately pop up. Before you really start digging into the modeling and analysis, you're going to need to perform some cleaning. Take some time to browse the structure of the data and look over the informational spreadsheets to understand the data values. Make some decisions on which features to keep, which features to drop, and if any revisions need to be made on data formats. It'll be a good idea to create a function with pre-processing steps, since you'll need to clean all of the datasets before you work with them."
   ]
  },
  {
   "cell_type": "markdown",
   "metadata": {},
   "source": [
    "## Read-in Raw Data"
   ]
  },
  {
   "cell_type": "code",
   "execution_count": 2,
   "metadata": {
    "scrolled": false
   },
   "outputs": [
    {
     "name": "stderr",
     "output_type": "stream",
     "text": [
      "D:\\Anaconda\\lib\\site-packages\\IPython\\core\\interactiveshell.py:3063: DtypeWarning: Columns (18,19) have mixed types.Specify dtype option on import or set low_memory=False.\n",
      "  interactivity=interactivity, compiler=compiler, result=result)\n"
     ]
    }
   ],
   "source": [
    "# load in the data\n",
    "azdias = pd.read_csv('Kmeans_raw_data/azdias.csv')\n",
    "customers = pd.read_csv('Kmeans_raw_data/customers.csv')"
   ]
  },
  {
   "cell_type": "code",
   "execution_count": 3,
   "metadata": {},
   "outputs": [
    {
     "name": "stdout",
     "output_type": "stream",
     "text": [
      "(891221, 366)\n",
      "(191652, 369)\n"
     ]
    }
   ],
   "source": [
    "print(azdias.shape)\n",
    "print(customers.shape)"
   ]
  },
  {
   "cell_type": "markdown",
   "metadata": {},
   "source": [
    "## Convert String Data to Numeric Data"
   ]
  },
  {
   "cell_type": "code",
   "execution_count": 4,
   "metadata": {},
   "outputs": [],
   "source": [
    "# Read in a csv file and return a transformed dataframe\n",
    "def numerical_dataframe(str_df):\n",
    "    '''Reads in a str dataframe file which is assumed to have'CAMEO_DEU_2015' column.\n",
    "       This function does two things: \n",
    "       1) converts `CAMEO_DEU_2015` column values to numerical values\n",
    "       2) converts missing value to the mode, because the mode is '6B', so 6 will be used to replace missing value\n",
    "       :param str_df: dataframe to deal with\n",
    "       :return: A dataframe with numerical categories'''\n",
    "        \n",
    "    target_column = 'CAMEO_DEU_2015'\n",
    "    if target_column not in str_df.columns.values.tolist():\n",
    "        print('CAMEO_DEU_2015 column not found')\n",
    "        return\n",
    "\n",
    "    CAMEO_DEU_2015_nb = []\n",
    "    for category in str_df['CAMEO_DEU_2015']:\n",
    "        if category in ['1A','1B','1C','1D','1E']:\n",
    "            CAMEO_DEU_2015_nb.append(1)\n",
    "        elif category in ['2A','2B','2C','2D']:\n",
    "            CAMEO_DEU_2015_nb.append(2)\n",
    "        elif category in ['3A','3B','3C','3D']:\n",
    "            CAMEO_DEU_2015_nb.append(3)\n",
    "        elif category in ['4A','4B','4C','4D','4E']:\n",
    "            CAMEO_DEU_2015_nb.append(4)\n",
    "        elif category in ['5A','5B','5C','5D','5E','5F']:\n",
    "            CAMEO_DEU_2015_nb.append(5)\n",
    "        elif category in ['6A','6B','6C','6D','6E','6F']:\n",
    "            CAMEO_DEU_2015_nb.append(6)\n",
    "        elif category in ['7A','7B','7C','7D','7E']:\n",
    "            CAMEO_DEU_2015_nb.append(7)\n",
    "        elif category in ['8A','8B','8C','8D']:\n",
    "            CAMEO_DEU_2015_nb.append(8)\n",
    "        elif category in ['9A','9B','9C','9D','9E']:\n",
    "            CAMEO_DEU_2015_nb.append(9)\n",
    "        else:\n",
    "            CAMEO_DEU_2015_nb.append(6)\n",
    "    str_df.drop(columns='CAMEO_DEU_2015')\n",
    "    \n",
    "    str_df['CAMEO_DEU_2015']=CAMEO_DEU_2015_nb\n",
    "    return str_df"
   ]
  },
  {
   "cell_type": "code",
   "execution_count": 5,
   "metadata": {},
   "outputs": [],
   "source": [
    "azdias = numerical_dataframe(azdias)\n",
    "customers = numerical_dataframe(customers)"
   ]
  },
  {
   "cell_type": "code",
   "execution_count": 6,
   "metadata": {},
   "outputs": [],
   "source": [
    "azdias.index = azdias['LNR']\n",
    "customers.index = customers['LNR']"
   ]
  },
  {
   "cell_type": "code",
   "execution_count": 7,
   "metadata": {},
   "outputs": [
    {
     "name": "stdout",
     "output_type": "stream",
     "text": [
      "float64\n",
      "float64\n"
     ]
    }
   ],
   "source": [
    "azdias[\"CAMEO_DEUG_2015\"] = pd.to_numeric(azdias.CAMEO_DEUG_2015, errors='coerce')\n",
    "customers[\"CAMEO_DEUG_2015\"] = pd.to_numeric(customers.CAMEO_DEUG_2015, errors='coerce')\n",
    "print(azdias[\"CAMEO_DEUG_2015\"].dtypes)\n",
    "print(customers[\"CAMEO_DEUG_2015\"].dtypes)"
   ]
  },
  {
   "cell_type": "markdown",
   "metadata": {},
   "source": [
    "## Convert all missing/unknown value into -1\n",
    "\n",
    "Raw data was organized poorly. In some columns, -1 and 0 are all stand for unknown/missing data. In other columns 0 or 9 is stand for unknown/missing data.<br>\n",
    "This section includes three parts:\n",
    "1. covert all unknown/missing value into -1, make sure only -1 stands for missing value\n",
    "2. Select only useful columns from raw data. Delete redundant and unrelated columns.\n",
    "3. Drop out the columns with a high missing rate.\n",
    "4. Use average value to replace the misssing value."
   ]
  },
  {
   "cell_type": "code",
   "execution_count": 8,
   "metadata": {},
   "outputs": [],
   "source": [
    "# replace 0 with -1 for some columns\n",
    "def replace_val(df,target_columns,target_val,new_val):      \n",
    "    converted_df = df[target_columns].replace(target_val,new_val)\n",
    "    df = df.drop(target_columns, axis=1)\n",
    "    prepared_df = pd.concat([df,converted_df],axis=1)\n",
    "    \n",
    "    return prepared_df"
   ]
  },
  {
   "cell_type": "code",
   "execution_count": 9,
   "metadata": {},
   "outputs": [],
   "source": [
    "# Raw data considered 0/9/-1 as unknown value. To make the definition consistant, I find out the lists below.\n",
    "# According to these lists, we can convert some 0/9 to make sure only -1 stands for unknown value. \n",
    "zero_to_neg_one = [\"ALTERSKATEGORIE_GROB\",\"ALTER_HH\",\"ANREDE_KZ\",\"CJT_GESAMTTYP\",\"GEBAEUDETYP\",\"HH_EINKOMMEN_SCORE\",\"KBA05_BAUMAX\",\"KBA05_GBZ\",\"KKK\",\"NATIONALITAET_KZ\",\"PRAEGENDE_JUGENDJAHRE\",\"REGIOTYP\",\"RETOURTYP_BK_S\",\"TITEL_KZ\",\"WOHNDAUER_2008\",\"W_KEIT_KIND_HH\"]\n",
    "nine_to_neg_one = [\"KBA05_ALTER1\",\"KBA05_ALTER2\",\"KBA05_ALTER3\",\"KBA05_ALTER4\",\"KBA05_ANHANG\",\"KBA05_AUTOQUOT\",\"KBA05_CCM1\",\"KBA05_CCM2\",\"KBA05_CCM3\",\"KBA05_CCM4\",\"KBA05_DIESEL\",\"KBA05_FRAU\",\"KBA05_HERST1\",\"KBA05_HERST2\",\"KBA05_HERST3\",\"KBA05_HERST4\",\"KBA05_HERST5\",\"KBA05_HERSTTEMP\",\"KBA05_KRSAQUOT\",\"KBA05_KRSHERST1\",\"KBA05_KRSHERST2\",\"KBA05_KRSHERST3\",\"KBA05_KRSKLEIN\",\"KBA05_KRSOBER\",\"KBA05_KRSVAN\",\"KBA05_KRSZUL\",\"KBA05_KW1\",\"KBA05_KW2\",\"KBA05_KW3\",\"KBA05_MAXAH\",\"KBA05_MAXBJ\",\"KBA05_MAXHERST\",\"KBA05_MAXSEG\",\"KBA05_MAXVORB\",\"KBA05_MOD1\",\"KBA05_MOD2\",\"KBA05_MOD3\",\"KBA05_MOD4\",\"KBA05_MOD8\",\"KBA05_MODTEMP\",\"KBA05_MOTOR\",\"KBA05_MOTRAD\",\"KBA05_SEG1\",\"KBA05_SEG10\",\"KBA05_SEG2\",\"KBA05_SEG3\",\"KBA05_SEG4\",\"KBA05_SEG5\",\"KBA05_SEG6\",\"KBA05_SEG7\",\"KBA05_SEG8\",\"KBA05_SEG9\",\"KBA05_VORB0\",\"KBA05_VORB1\",\"KBA05_VORB2\",\"KBA05_ZUL1\",\"KBA05_ZUL2\",\"KBA05_ZUL3\",\"KBA05_ZUL4\",\"RELAT_AB\",\"SEMIO_DOM\",\"SEMIO_ERL\",\"SEMIO_FAM\",\"SEMIO_KAEM\",\"SEMIO_KRIT\",\"SEMIO_KULT\",\"SEMIO_LUST\",\"SEMIO_MAT\",\"SEMIO_PFLICHT\",\"SEMIO_RAT\",\"SEMIO_REL\",\"SEMIO_SOZ\",\"SEMIO_TRADV\",\"SEMIO_VERT\",\"ZABEOTYP\"]"
   ]
  },
  {
   "cell_type": "code",
   "execution_count": 10,
   "metadata": {},
   "outputs": [],
   "source": [
    "def convert_unknown_to_negone(df,zero_to_neg_one,nine_to_neg_one):\n",
    "    df = replace_val(df,zero_to_neg_one,0,-1)\n",
    "    df = replace_val(df,nine_to_neg_one,9,-1)\n",
    "    df = df.fillna(value=-1)\n",
    "    return df"
   ]
  },
  {
   "cell_type": "code",
   "execution_count": 11,
   "metadata": {},
   "outputs": [],
   "source": [
    "azdias_df = convert_unknown_to_negone(azdias,zero_to_neg_one,nine_to_neg_one)\n",
    "customers_df = convert_unknown_to_negone(customers,zero_to_neg_one,nine_to_neg_one)"
   ]
  },
  {
   "cell_type": "markdown",
   "metadata": {},
   "source": [
    "### Column Selection\n",
    "\n",
    "I choosed 114 meaningful columns from the raw data(360plus columns) based on the provided meta data information."
   ]
  },
  {
   "cell_type": "code",
   "execution_count": 12,
   "metadata": {},
   "outputs": [],
   "source": [
    "col_list = ['ANREDE_KZ', 'CJT_GESAMTTYP', 'FINANZTYP', 'GFK_URLAUBERTYP', 'GREEN_AVANTGARDE', 'HEALTH_TYP', 'LP_FAMILIE_FEIN', 'LP_STATUS_FEIN', 'NATIONALITAET_KZ', 'PRAEGENDE_JUGENDJAHRE', 'RETOURTYP_BK_S', 'SEMIO_SOZ', 'SEMIO_FAM', 'SEMIO_REL', 'SEMIO_MAT', 'SEMIO_VERT', 'SEMIO_LUST', 'SEMIO_ERL', 'SEMIO_KULT', 'SEMIO_RAT', 'SEMIO_KRIT', 'SEMIO_DOM', 'SEMIO_KAEM', 'SEMIO_PFLICHT', 'SEMIO_TRADV', 'SHOPPER_TYP', 'VERS_TYP', 'ZABEOTYP', 'ALTER_HH', 'ANZ_PERSONEN', 'ANZ_TITEL', 'HH_EINKOMMEN_SCORE', 'D19_VERSAND_ANZ_12', 'D19_VERSAND_ANZ_24', 'D19_GESAMT_ONLINE_DATUM', 'D19_GESAMT_DATUM', 'D19_BANKEN_ONLINE_DATUM', 'D19_BANKEN_DATUM', 'D19_TELKO_ONLINE_DATUM', 'D19_TELKO_DATUM', 'D19_VERSAND_ONLINE_DATUM', 'D19_VERSAND_DATUM', 'D19_VERSI_ONLINE_DATUM', 'D19_VERSI_DATUM', 'D19_VERSAND_ONLINE_QUOTE_12', 'W_KEIT_KIND_HH', 'ANZ_HH_TITEL', 'KONSUMNAEHE', 'WOHNLAGE', 'CAMEO_DEUG_2015', 'KBA05_AUTOQUOT', 'KBA05_KRSOBER', 'KBA05_MAXAH', 'KBA05_MAXBJ', 'KBA05_MOTRAD', 'KBA05_SEG9', 'WOHNDAUER_2008', 'D19_BANKEN_DIREKT', 'D19_BANKEN_GROSS', 'D19_BANKEN_LOKAL', 'D19_BANKEN_REST', 'D19_BEKLEIDUNG_GEH', 'D19_BEKLEIDUNG_REST', 'D19_BIO_OEKO', 'D19_BILDUNG', 'D19_BUCH_CD', 'D19_DIGIT_SERV', 'D19_DROGERIEARTIKEL', 'D19_ENERGIE', 'D19_FREIZEIT', 'D19_GARTEN', 'D19_HANDWERK', 'D19_HAUS_DEKO', 'D19_KINDERARTIKEL', 'D19_KOSMETIK', 'D19_LEBENSMITTEL', 'D19_NAHRUNGSERGAENZUNG', 'D19_RATGEBER', 'D19_REISEN', 'D19_SAMMELARTIKEL', 'D19_SCHUHE', 'D19_SONSTIGE', 'D19_TECHNIK', 'D19_TELKO_MOBILE', 'D19_TELKO_REST', 'D19_TIERARTIKEL', 'D19_VERSICHERUNGEN', 'D19_VOLLSORTIMENT', 'D19_WEIN_FEINKOST', 'BALLRAUM', 'EWDICHTE', 'INNENSTADT', 'GEBAEUDETYP_RASTER', 'KKK', 'MOBI_REGIO', 'ONLINE_AFFINITAET', 'REGIOTYP', 'KBA13_AUTOQUOTE', 'KBA13_HALTER_20', 'KBA13_HALTER_25', 'KBA13_HALTER_30', 'KBA13_HALTER_35', 'KBA13_HALTER_40', 'KBA13_HALTER_45', 'KBA13_HALTER_50', 'KBA13_HALTER_55', 'KBA13_HALTER_60', 'KBA13_HALTER_65', 'KBA13_HALTER_66', 'PLZ8_BAUMAX', 'PLZ8_HHZ', 'PLZ8_GBZ', 'ARBEIT', 'ORTSGR_KLS9']"
   ]
  },
  {
   "cell_type": "code",
   "execution_count": 13,
   "metadata": {},
   "outputs": [],
   "source": [
    "azdias_df = azdias_df[col_list]\n",
    "customers_df = customers_df[col_list]"
   ]
  },
  {
   "cell_type": "code",
   "execution_count": 14,
   "metadata": {},
   "outputs": [
    {
     "data": {
      "text/plain": [
       "(891221, 114)"
      ]
     },
     "execution_count": 14,
     "metadata": {},
     "output_type": "execute_result"
    }
   ],
   "source": [
    "azdias_df.shape"
   ]
  },
  {
   "cell_type": "markdown",
   "metadata": {},
   "source": [
    "### Drop out the columns with a high missing rate"
   ]
  },
  {
   "cell_type": "code",
   "execution_count": 15,
   "metadata": {},
   "outputs": [],
   "source": [
    "# This function drop those columns that has a high missing value rate from the specified table.\n",
    "# table: the specified table \n",
    "# threshold: the columns which have a higher missing rate than this threshold will be drop\n",
    "# function return is the remianing column list that has low missing value rate.\n",
    "\n",
    "def drop_missing_val_column(table, threshold):\n",
    "    missing_rate = []\n",
    "    for column in table.columns:\n",
    "        rate = table[table[column]==-1].shape[0]/len(table)*100\n",
    "        missing_rate.append(rate)\n",
    "    \n",
    "    column_remain = []\n",
    "    column_name = table.columns\n",
    "    for i in range(0,table.shape[1]):\n",
    "        if missing_rate[i]<=threshold:\n",
    "            column_remain.append(column_name[i])\n",
    "    \n",
    "    return column_remain"
   ]
  },
  {
   "cell_type": "code",
   "execution_count": 16,
   "metadata": {},
   "outputs": [
    {
     "name": "stdout",
     "output_type": "stream",
     "text": [
      "114\n"
     ]
    }
   ],
   "source": [
    "# For the Kmeans model, I want to keep all of the 114 columns, so the threshold is set to 100.\n",
    "column_remain=drop_missing_val_column(customers_df,100)\n",
    "print(len(column_remain))"
   ]
  },
  {
   "cell_type": "markdown",
   "metadata": {},
   "source": [
    "### Use average value to replace the misssing value"
   ]
  },
  {
   "cell_type": "code",
   "execution_count": 17,
   "metadata": {},
   "outputs": [],
   "source": [
    "# The Data_process function changed all missing/unknown value(-1) to the mean value of each column.\n",
    "import helper\n",
    "\n",
    "def Data_process(df,column_remain):\n",
    "    df_remain = df[column_remain]\n",
    "    df_new = helper.replace_unknown_to_mean(df_remain)\n",
    "    return df_new\n",
    "    "
   ]
  },
  {
   "cell_type": "code",
   "execution_count": 18,
   "metadata": {},
   "outputs": [
    {
     "data": {
      "text/plain": [
       "(191652, 114)"
      ]
     },
     "execution_count": 18,
     "metadata": {},
     "output_type": "execute_result"
    }
   ],
   "source": [
    "# checked already changed all -1 to the mean value for all columns.\n",
    "customers_df = Data_process(customers_df,column_remain)\n",
    "customers_df.shape"
   ]
  },
  {
   "cell_type": "code",
   "execution_count": 19,
   "metadata": {},
   "outputs": [
    {
     "data": {
      "text/plain": [
       "(891221, 114)"
      ]
     },
     "execution_count": 19,
     "metadata": {},
     "output_type": "execute_result"
    }
   ],
   "source": [
    "azdias_df = Data_process(azdias_df,column_remain)\n",
    "azdias_df.shape"
   ]
  },
  {
   "cell_type": "code",
   "execution_count": 20,
   "metadata": {},
   "outputs": [
    {
     "data": {
      "text/plain": [
       "(1082873, 115)"
      ]
     },
     "execution_count": 20,
     "metadata": {},
     "output_type": "execute_result"
    }
   ],
   "source": [
    "customers_df['Flag']=1\n",
    "azdias_df['Flag']=0\n",
    "\n",
    "Segmentation_df = pd.concat([customers_df,azdias_df],join = 'inner')\n",
    "Segmentation_df.shape"
   ]
  },
  {
   "cell_type": "code",
   "execution_count": 21,
   "metadata": {},
   "outputs": [
    {
     "data": {
      "text/html": [
       "<div>\n",
       "<style scoped>\n",
       "    .dataframe tbody tr th:only-of-type {\n",
       "        vertical-align: middle;\n",
       "    }\n",
       "\n",
       "    .dataframe tbody tr th {\n",
       "        vertical-align: top;\n",
       "    }\n",
       "\n",
       "    .dataframe thead th {\n",
       "        text-align: right;\n",
       "    }\n",
       "</style>\n",
       "<table border=\"1\" class=\"dataframe\">\n",
       "  <thead>\n",
       "    <tr style=\"text-align: right;\">\n",
       "      <th></th>\n",
       "      <th>ANREDE_KZ</th>\n",
       "      <th>CJT_GESAMTTYP</th>\n",
       "      <th>FINANZTYP</th>\n",
       "      <th>GFK_URLAUBERTYP</th>\n",
       "      <th>GREEN_AVANTGARDE</th>\n",
       "      <th>HEALTH_TYP</th>\n",
       "      <th>LP_FAMILIE_FEIN</th>\n",
       "      <th>LP_STATUS_FEIN</th>\n",
       "      <th>NATIONALITAET_KZ</th>\n",
       "      <th>PRAEGENDE_JUGENDJAHRE</th>\n",
       "      <th>...</th>\n",
       "      <th>KBA13_HALTER_55</th>\n",
       "      <th>KBA13_HALTER_60</th>\n",
       "      <th>KBA13_HALTER_65</th>\n",
       "      <th>KBA13_HALTER_66</th>\n",
       "      <th>PLZ8_BAUMAX</th>\n",
       "      <th>PLZ8_HHZ</th>\n",
       "      <th>PLZ8_GBZ</th>\n",
       "      <th>ARBEIT</th>\n",
       "      <th>ORTSGR_KLS9</th>\n",
       "      <th>Flag</th>\n",
       "    </tr>\n",
       "    <tr>\n",
       "      <th>LNR</th>\n",
       "      <th></th>\n",
       "      <th></th>\n",
       "      <th></th>\n",
       "      <th></th>\n",
       "      <th></th>\n",
       "      <th></th>\n",
       "      <th></th>\n",
       "      <th></th>\n",
       "      <th></th>\n",
       "      <th></th>\n",
       "      <th></th>\n",
       "      <th></th>\n",
       "      <th></th>\n",
       "      <th></th>\n",
       "      <th></th>\n",
       "      <th></th>\n",
       "      <th></th>\n",
       "      <th></th>\n",
       "      <th></th>\n",
       "      <th></th>\n",
       "      <th></th>\n",
       "    </tr>\n",
       "  </thead>\n",
       "  <tbody>\n",
       "    <tr>\n",
       "      <th>9626</th>\n",
       "      <td>1</td>\n",
       "      <td>5.000000</td>\n",
       "      <td>2</td>\n",
       "      <td>4.000000</td>\n",
       "      <td>1</td>\n",
       "      <td>1.0</td>\n",
       "      <td>2.000000</td>\n",
       "      <td>10.00000</td>\n",
       "      <td>1.0</td>\n",
       "      <td>4.000000</td>\n",
       "      <td>...</td>\n",
       "      <td>5.000000</td>\n",
       "      <td>5.000000</td>\n",
       "      <td>4.000000</td>\n",
       "      <td>3.000000</td>\n",
       "      <td>1.000000</td>\n",
       "      <td>5.000000</td>\n",
       "      <td>5.000000</td>\n",
       "      <td>1.00000</td>\n",
       "      <td>2.000000</td>\n",
       "      <td>1</td>\n",
       "    </tr>\n",
       "    <tr>\n",
       "      <th>9628</th>\n",
       "      <td>1</td>\n",
       "      <td>3.677928</td>\n",
       "      <td>2</td>\n",
       "      <td>6.302268</td>\n",
       "      <td>0</td>\n",
       "      <td>1.0</td>\n",
       "      <td>4.254448</td>\n",
       "      <td>6.68791</td>\n",
       "      <td>1.0</td>\n",
       "      <td>5.687074</td>\n",
       "      <td>...</td>\n",
       "      <td>2.983593</td>\n",
       "      <td>2.985203</td>\n",
       "      <td>3.336145</td>\n",
       "      <td>3.225709</td>\n",
       "      <td>1.556607</td>\n",
       "      <td>3.634893</td>\n",
       "      <td>3.622192</td>\n",
       "      <td>2.82485</td>\n",
       "      <td>5.119517</td>\n",
       "      <td>1</td>\n",
       "    </tr>\n",
       "    <tr>\n",
       "      <th>143872</th>\n",
       "      <td>2</td>\n",
       "      <td>2.000000</td>\n",
       "      <td>2</td>\n",
       "      <td>3.000000</td>\n",
       "      <td>1</td>\n",
       "      <td>2.0</td>\n",
       "      <td>1.000000</td>\n",
       "      <td>10.00000</td>\n",
       "      <td>1.0</td>\n",
       "      <td>4.000000</td>\n",
       "      <td>...</td>\n",
       "      <td>3.000000</td>\n",
       "      <td>3.000000</td>\n",
       "      <td>3.000000</td>\n",
       "      <td>4.000000</td>\n",
       "      <td>3.000000</td>\n",
       "      <td>3.000000</td>\n",
       "      <td>2.000000</td>\n",
       "      <td>3.00000</td>\n",
       "      <td>5.000000</td>\n",
       "      <td>1</td>\n",
       "    </tr>\n",
       "    <tr>\n",
       "      <th>143873</th>\n",
       "      <td>1</td>\n",
       "      <td>2.000000</td>\n",
       "      <td>6</td>\n",
       "      <td>10.000000</td>\n",
       "      <td>0</td>\n",
       "      <td>2.0</td>\n",
       "      <td>0.000000</td>\n",
       "      <td>9.00000</td>\n",
       "      <td>1.0</td>\n",
       "      <td>1.000000</td>\n",
       "      <td>...</td>\n",
       "      <td>3.000000</td>\n",
       "      <td>3.000000</td>\n",
       "      <td>1.000000</td>\n",
       "      <td>2.000000</td>\n",
       "      <td>1.000000</td>\n",
       "      <td>3.000000</td>\n",
       "      <td>4.000000</td>\n",
       "      <td>1.00000</td>\n",
       "      <td>3.000000</td>\n",
       "      <td>1</td>\n",
       "    </tr>\n",
       "    <tr>\n",
       "      <th>143874</th>\n",
       "      <td>1</td>\n",
       "      <td>6.000000</td>\n",
       "      <td>2</td>\n",
       "      <td>2.000000</td>\n",
       "      <td>0</td>\n",
       "      <td>3.0</td>\n",
       "      <td>10.000000</td>\n",
       "      <td>1.00000</td>\n",
       "      <td>1.0</td>\n",
       "      <td>8.000000</td>\n",
       "      <td>...</td>\n",
       "      <td>3.000000</td>\n",
       "      <td>3.000000</td>\n",
       "      <td>3.000000</td>\n",
       "      <td>4.000000</td>\n",
       "      <td>2.000000</td>\n",
       "      <td>3.000000</td>\n",
       "      <td>3.000000</td>\n",
       "      <td>3.00000</td>\n",
       "      <td>5.000000</td>\n",
       "      <td>1</td>\n",
       "    </tr>\n",
       "  </tbody>\n",
       "</table>\n",
       "<p>5 rows × 115 columns</p>\n",
       "</div>"
      ],
      "text/plain": [
       "        ANREDE_KZ  CJT_GESAMTTYP  FINANZTYP  GFK_URLAUBERTYP  \\\n",
       "LNR                                                            \n",
       "9626            1       5.000000          2         4.000000   \n",
       "9628            1       3.677928          2         6.302268   \n",
       "143872          2       2.000000          2         3.000000   \n",
       "143873          1       2.000000          6        10.000000   \n",
       "143874          1       6.000000          2         2.000000   \n",
       "\n",
       "        GREEN_AVANTGARDE  HEALTH_TYP  LP_FAMILIE_FEIN  LP_STATUS_FEIN  \\\n",
       "LNR                                                                     \n",
       "9626                   1         1.0         2.000000        10.00000   \n",
       "9628                   0         1.0         4.254448         6.68791   \n",
       "143872                 1         2.0         1.000000        10.00000   \n",
       "143873                 0         2.0         0.000000         9.00000   \n",
       "143874                 0         3.0        10.000000         1.00000   \n",
       "\n",
       "        NATIONALITAET_KZ  PRAEGENDE_JUGENDJAHRE  ...  KBA13_HALTER_55  \\\n",
       "LNR                                              ...                    \n",
       "9626                 1.0               4.000000  ...         5.000000   \n",
       "9628                 1.0               5.687074  ...         2.983593   \n",
       "143872               1.0               4.000000  ...         3.000000   \n",
       "143873               1.0               1.000000  ...         3.000000   \n",
       "143874               1.0               8.000000  ...         3.000000   \n",
       "\n",
       "        KBA13_HALTER_60  KBA13_HALTER_65  KBA13_HALTER_66  PLZ8_BAUMAX  \\\n",
       "LNR                                                                      \n",
       "9626           5.000000         4.000000         3.000000     1.000000   \n",
       "9628           2.985203         3.336145         3.225709     1.556607   \n",
       "143872         3.000000         3.000000         4.000000     3.000000   \n",
       "143873         3.000000         1.000000         2.000000     1.000000   \n",
       "143874         3.000000         3.000000         4.000000     2.000000   \n",
       "\n",
       "        PLZ8_HHZ  PLZ8_GBZ   ARBEIT  ORTSGR_KLS9  Flag  \n",
       "LNR                                                     \n",
       "9626    5.000000  5.000000  1.00000     2.000000     1  \n",
       "9628    3.634893  3.622192  2.82485     5.119517     1  \n",
       "143872  3.000000  2.000000  3.00000     5.000000     1  \n",
       "143873  3.000000  4.000000  1.00000     3.000000     1  \n",
       "143874  3.000000  3.000000  3.00000     5.000000     1  \n",
       "\n",
       "[5 rows x 115 columns]"
      ]
     },
     "execution_count": 21,
     "metadata": {},
     "output_type": "execute_result"
    }
   ],
   "source": [
    "Segmentation_df.head()"
   ]
  },
  {
   "cell_type": "markdown",
   "metadata": {},
   "source": [
    "## Normalize the data\n",
    "We need to standardize the scale of the numerical columns in order to consistently compare the values of different features. We can use a MinMaxScaler to transform the numerical values so that they all fall between 0 and 1. This is a necessary step before using PCA.\n"
   ]
  },
  {
   "cell_type": "code",
   "execution_count": 22,
   "metadata": {},
   "outputs": [
    {
     "data": {
      "text/html": [
       "<div>\n",
       "<style scoped>\n",
       "    .dataframe tbody tr th:only-of-type {\n",
       "        vertical-align: middle;\n",
       "    }\n",
       "\n",
       "    .dataframe tbody tr th {\n",
       "        vertical-align: top;\n",
       "    }\n",
       "\n",
       "    .dataframe thead th {\n",
       "        text-align: right;\n",
       "    }\n",
       "</style>\n",
       "<table border=\"1\" class=\"dataframe\">\n",
       "  <thead>\n",
       "    <tr style=\"text-align: right;\">\n",
       "      <th></th>\n",
       "      <th>ANREDE_KZ</th>\n",
       "      <th>CJT_GESAMTTYP</th>\n",
       "      <th>FINANZTYP</th>\n",
       "      <th>GFK_URLAUBERTYP</th>\n",
       "      <th>GREEN_AVANTGARDE</th>\n",
       "      <th>HEALTH_TYP</th>\n",
       "      <th>LP_FAMILIE_FEIN</th>\n",
       "      <th>LP_STATUS_FEIN</th>\n",
       "      <th>NATIONALITAET_KZ</th>\n",
       "      <th>PRAEGENDE_JUGENDJAHRE</th>\n",
       "      <th>...</th>\n",
       "      <th>KBA13_HALTER_55</th>\n",
       "      <th>KBA13_HALTER_60</th>\n",
       "      <th>KBA13_HALTER_65</th>\n",
       "      <th>KBA13_HALTER_66</th>\n",
       "      <th>PLZ8_BAUMAX</th>\n",
       "      <th>PLZ8_HHZ</th>\n",
       "      <th>PLZ8_GBZ</th>\n",
       "      <th>ARBEIT</th>\n",
       "      <th>ORTSGR_KLS9</th>\n",
       "      <th>Flag</th>\n",
       "    </tr>\n",
       "    <tr>\n",
       "      <th>LNR</th>\n",
       "      <th></th>\n",
       "      <th></th>\n",
       "      <th></th>\n",
       "      <th></th>\n",
       "      <th></th>\n",
       "      <th></th>\n",
       "      <th></th>\n",
       "      <th></th>\n",
       "      <th></th>\n",
       "      <th></th>\n",
       "      <th></th>\n",
       "      <th></th>\n",
       "      <th></th>\n",
       "      <th></th>\n",
       "      <th></th>\n",
       "      <th></th>\n",
       "      <th></th>\n",
       "      <th></th>\n",
       "      <th></th>\n",
       "      <th></th>\n",
       "      <th></th>\n",
       "    </tr>\n",
       "  </thead>\n",
       "  <tbody>\n",
       "    <tr>\n",
       "      <th>9626</th>\n",
       "      <td>0.0</td>\n",
       "      <td>0.800000</td>\n",
       "      <td>0.2</td>\n",
       "      <td>0.272727</td>\n",
       "      <td>1.0</td>\n",
       "      <td>0.0</td>\n",
       "      <td>0.181818</td>\n",
       "      <td>1.000000</td>\n",
       "      <td>0.0</td>\n",
       "      <td>0.214286</td>\n",
       "      <td>...</td>\n",
       "      <td>1.000000</td>\n",
       "      <td>1.000000</td>\n",
       "      <td>0.750000</td>\n",
       "      <td>0.500000</td>\n",
       "      <td>0.000000</td>\n",
       "      <td>1.000000</td>\n",
       "      <td>1.000000</td>\n",
       "      <td>0.000000</td>\n",
       "      <td>0.222222</td>\n",
       "      <td>1.0</td>\n",
       "    </tr>\n",
       "    <tr>\n",
       "      <th>9628</th>\n",
       "      <td>0.0</td>\n",
       "      <td>0.535586</td>\n",
       "      <td>0.2</td>\n",
       "      <td>0.482024</td>\n",
       "      <td>0.0</td>\n",
       "      <td>0.0</td>\n",
       "      <td>0.386768</td>\n",
       "      <td>0.631990</td>\n",
       "      <td>0.0</td>\n",
       "      <td>0.334791</td>\n",
       "      <td>...</td>\n",
       "      <td>0.495898</td>\n",
       "      <td>0.496301</td>\n",
       "      <td>0.584036</td>\n",
       "      <td>0.556427</td>\n",
       "      <td>0.139152</td>\n",
       "      <td>0.658723</td>\n",
       "      <td>0.655548</td>\n",
       "      <td>0.228106</td>\n",
       "      <td>0.568835</td>\n",
       "      <td>1.0</td>\n",
       "    </tr>\n",
       "    <tr>\n",
       "      <th>143872</th>\n",
       "      <td>1.0</td>\n",
       "      <td>0.200000</td>\n",
       "      <td>0.2</td>\n",
       "      <td>0.181818</td>\n",
       "      <td>1.0</td>\n",
       "      <td>0.5</td>\n",
       "      <td>0.090909</td>\n",
       "      <td>1.000000</td>\n",
       "      <td>0.0</td>\n",
       "      <td>0.214286</td>\n",
       "      <td>...</td>\n",
       "      <td>0.500000</td>\n",
       "      <td>0.500000</td>\n",
       "      <td>0.500000</td>\n",
       "      <td>0.750000</td>\n",
       "      <td>0.500000</td>\n",
       "      <td>0.500000</td>\n",
       "      <td>0.250000</td>\n",
       "      <td>0.250000</td>\n",
       "      <td>0.555556</td>\n",
       "      <td>1.0</td>\n",
       "    </tr>\n",
       "    <tr>\n",
       "      <th>143873</th>\n",
       "      <td>0.0</td>\n",
       "      <td>0.200000</td>\n",
       "      <td>1.0</td>\n",
       "      <td>0.818182</td>\n",
       "      <td>0.0</td>\n",
       "      <td>0.5</td>\n",
       "      <td>0.000000</td>\n",
       "      <td>0.888889</td>\n",
       "      <td>0.0</td>\n",
       "      <td>0.000000</td>\n",
       "      <td>...</td>\n",
       "      <td>0.500000</td>\n",
       "      <td>0.500000</td>\n",
       "      <td>0.000000</td>\n",
       "      <td>0.250000</td>\n",
       "      <td>0.000000</td>\n",
       "      <td>0.500000</td>\n",
       "      <td>0.750000</td>\n",
       "      <td>0.000000</td>\n",
       "      <td>0.333333</td>\n",
       "      <td>1.0</td>\n",
       "    </tr>\n",
       "    <tr>\n",
       "      <th>143874</th>\n",
       "      <td>0.0</td>\n",
       "      <td>1.000000</td>\n",
       "      <td>0.2</td>\n",
       "      <td>0.090909</td>\n",
       "      <td>0.0</td>\n",
       "      <td>1.0</td>\n",
       "      <td>0.909091</td>\n",
       "      <td>0.000000</td>\n",
       "      <td>0.0</td>\n",
       "      <td>0.500000</td>\n",
       "      <td>...</td>\n",
       "      <td>0.500000</td>\n",
       "      <td>0.500000</td>\n",
       "      <td>0.500000</td>\n",
       "      <td>0.750000</td>\n",
       "      <td>0.250000</td>\n",
       "      <td>0.500000</td>\n",
       "      <td>0.500000</td>\n",
       "      <td>0.250000</td>\n",
       "      <td>0.555556</td>\n",
       "      <td>1.0</td>\n",
       "    </tr>\n",
       "  </tbody>\n",
       "</table>\n",
       "<p>5 rows × 115 columns</p>\n",
       "</div>"
      ],
      "text/plain": [
       "        ANREDE_KZ  CJT_GESAMTTYP  FINANZTYP  GFK_URLAUBERTYP  \\\n",
       "LNR                                                            \n",
       "9626          0.0       0.800000        0.2         0.272727   \n",
       "9628          0.0       0.535586        0.2         0.482024   \n",
       "143872        1.0       0.200000        0.2         0.181818   \n",
       "143873        0.0       0.200000        1.0         0.818182   \n",
       "143874        0.0       1.000000        0.2         0.090909   \n",
       "\n",
       "        GREEN_AVANTGARDE  HEALTH_TYP  LP_FAMILIE_FEIN  LP_STATUS_FEIN  \\\n",
       "LNR                                                                     \n",
       "9626                 1.0         0.0         0.181818        1.000000   \n",
       "9628                 0.0         0.0         0.386768        0.631990   \n",
       "143872               1.0         0.5         0.090909        1.000000   \n",
       "143873               0.0         0.5         0.000000        0.888889   \n",
       "143874               0.0         1.0         0.909091        0.000000   \n",
       "\n",
       "        NATIONALITAET_KZ  PRAEGENDE_JUGENDJAHRE  ...  KBA13_HALTER_55  \\\n",
       "LNR                                              ...                    \n",
       "9626                 0.0               0.214286  ...         1.000000   \n",
       "9628                 0.0               0.334791  ...         0.495898   \n",
       "143872               0.0               0.214286  ...         0.500000   \n",
       "143873               0.0               0.000000  ...         0.500000   \n",
       "143874               0.0               0.500000  ...         0.500000   \n",
       "\n",
       "        KBA13_HALTER_60  KBA13_HALTER_65  KBA13_HALTER_66  PLZ8_BAUMAX  \\\n",
       "LNR                                                                      \n",
       "9626           1.000000         0.750000         0.500000     0.000000   \n",
       "9628           0.496301         0.584036         0.556427     0.139152   \n",
       "143872         0.500000         0.500000         0.750000     0.500000   \n",
       "143873         0.500000         0.000000         0.250000     0.000000   \n",
       "143874         0.500000         0.500000         0.750000     0.250000   \n",
       "\n",
       "        PLZ8_HHZ  PLZ8_GBZ    ARBEIT  ORTSGR_KLS9  Flag  \n",
       "LNR                                                      \n",
       "9626    1.000000  1.000000  0.000000     0.222222   1.0  \n",
       "9628    0.658723  0.655548  0.228106     0.568835   1.0  \n",
       "143872  0.500000  0.250000  0.250000     0.555556   1.0  \n",
       "143873  0.500000  0.750000  0.000000     0.333333   1.0  \n",
       "143874  0.500000  0.500000  0.250000     0.555556   1.0  \n",
       "\n",
       "[5 rows x 115 columns]"
      ]
     },
     "execution_count": 22,
     "metadata": {},
     "output_type": "execute_result"
    }
   ],
   "source": [
    "# scale numerical features into a normalized range, 0-1\n",
    "# reference to the following website: https://scikit-learn.org/stable/modules/generated/sklearn.preprocessing.MinMaxScaler.html\n",
    "\n",
    "from sklearn.preprocessing import MinMaxScaler\n",
    "\n",
    "scaler=MinMaxScaler()\n",
    "\n",
    "Segmentation_scaled=pd.DataFrame(scaler.fit_transform(Segmentation_df.astype(float)))\n",
    "Segmentation_scaled.columns=Segmentation_df.columns\n",
    "Segmentation_scaled.index=Segmentation_df.index\n",
    "\n",
    "Segmentation_scaled.head()"
   ]
  },
  {
   "cell_type": "code",
   "execution_count": 23,
   "metadata": {},
   "outputs": [
    {
     "name": "stdout",
     "output_type": "stream",
     "text": [
      "(191652, 114)\n"
     ]
    }
   ],
   "source": [
    "customers_clean = Segmentation_scaled[Segmentation_scaled['Flag']==1]\n",
    "customers_clean = customers_clean.drop(['Flag'], axis=1)\n",
    "print(customers_clean.shape)"
   ]
  },
  {
   "cell_type": "code",
   "execution_count": 24,
   "metadata": {},
   "outputs": [
    {
     "name": "stdout",
     "output_type": "stream",
     "text": [
      "(891221, 114)\n"
     ]
    }
   ],
   "source": [
    "azdias_clean = Segmentation_scaled[Segmentation_scaled['Flag']==0]\n",
    "azdias_clean = azdias_clean.drop(['Flag'], axis=1)\n",
    "print(azdias_clean.shape)"
   ]
  },
  {
   "cell_type": "code",
   "execution_count": 25,
   "metadata": {},
   "outputs": [
    {
     "data": {
      "text/html": [
       "<div>\n",
       "<style scoped>\n",
       "    .dataframe tbody tr th:only-of-type {\n",
       "        vertical-align: middle;\n",
       "    }\n",
       "\n",
       "    .dataframe tbody tr th {\n",
       "        vertical-align: top;\n",
       "    }\n",
       "\n",
       "    .dataframe thead th {\n",
       "        text-align: right;\n",
       "    }\n",
       "</style>\n",
       "<table border=\"1\" class=\"dataframe\">\n",
       "  <thead>\n",
       "    <tr style=\"text-align: right;\">\n",
       "      <th></th>\n",
       "      <th>ANREDE_KZ</th>\n",
       "      <th>CJT_GESAMTTYP</th>\n",
       "      <th>FINANZTYP</th>\n",
       "      <th>GFK_URLAUBERTYP</th>\n",
       "      <th>GREEN_AVANTGARDE</th>\n",
       "      <th>HEALTH_TYP</th>\n",
       "      <th>LP_FAMILIE_FEIN</th>\n",
       "      <th>LP_STATUS_FEIN</th>\n",
       "      <th>NATIONALITAET_KZ</th>\n",
       "      <th>PRAEGENDE_JUGENDJAHRE</th>\n",
       "      <th>...</th>\n",
       "      <th>KBA13_HALTER_50</th>\n",
       "      <th>KBA13_HALTER_55</th>\n",
       "      <th>KBA13_HALTER_60</th>\n",
       "      <th>KBA13_HALTER_65</th>\n",
       "      <th>KBA13_HALTER_66</th>\n",
       "      <th>PLZ8_BAUMAX</th>\n",
       "      <th>PLZ8_HHZ</th>\n",
       "      <th>PLZ8_GBZ</th>\n",
       "      <th>ARBEIT</th>\n",
       "      <th>ORTSGR_KLS9</th>\n",
       "    </tr>\n",
       "    <tr>\n",
       "      <th>LNR</th>\n",
       "      <th></th>\n",
       "      <th></th>\n",
       "      <th></th>\n",
       "      <th></th>\n",
       "      <th></th>\n",
       "      <th></th>\n",
       "      <th></th>\n",
       "      <th></th>\n",
       "      <th></th>\n",
       "      <th></th>\n",
       "      <th></th>\n",
       "      <th></th>\n",
       "      <th></th>\n",
       "      <th></th>\n",
       "      <th></th>\n",
       "      <th></th>\n",
       "      <th></th>\n",
       "      <th></th>\n",
       "      <th></th>\n",
       "      <th></th>\n",
       "      <th></th>\n",
       "    </tr>\n",
       "  </thead>\n",
       "  <tbody>\n",
       "    <tr>\n",
       "      <th>9626</th>\n",
       "      <td>0.0</td>\n",
       "      <td>0.800000</td>\n",
       "      <td>0.2</td>\n",
       "      <td>0.272727</td>\n",
       "      <td>1.0</td>\n",
       "      <td>0.0</td>\n",
       "      <td>0.181818</td>\n",
       "      <td>1.000000</td>\n",
       "      <td>0.0</td>\n",
       "      <td>0.214286</td>\n",
       "      <td>...</td>\n",
       "      <td>0.750000</td>\n",
       "      <td>1.000000</td>\n",
       "      <td>1.000000</td>\n",
       "      <td>0.750000</td>\n",
       "      <td>0.500000</td>\n",
       "      <td>0.000000</td>\n",
       "      <td>1.000000</td>\n",
       "      <td>1.000000</td>\n",
       "      <td>0.000000</td>\n",
       "      <td>0.222222</td>\n",
       "    </tr>\n",
       "    <tr>\n",
       "      <th>9628</th>\n",
       "      <td>0.0</td>\n",
       "      <td>0.535586</td>\n",
       "      <td>0.2</td>\n",
       "      <td>0.482024</td>\n",
       "      <td>0.0</td>\n",
       "      <td>0.0</td>\n",
       "      <td>0.386768</td>\n",
       "      <td>0.631990</td>\n",
       "      <td>0.0</td>\n",
       "      <td>0.334791</td>\n",
       "      <td>...</td>\n",
       "      <td>0.475533</td>\n",
       "      <td>0.495898</td>\n",
       "      <td>0.496301</td>\n",
       "      <td>0.584036</td>\n",
       "      <td>0.556427</td>\n",
       "      <td>0.139152</td>\n",
       "      <td>0.658723</td>\n",
       "      <td>0.655548</td>\n",
       "      <td>0.228106</td>\n",
       "      <td>0.568835</td>\n",
       "    </tr>\n",
       "    <tr>\n",
       "      <th>143872</th>\n",
       "      <td>1.0</td>\n",
       "      <td>0.200000</td>\n",
       "      <td>0.2</td>\n",
       "      <td>0.181818</td>\n",
       "      <td>1.0</td>\n",
       "      <td>0.5</td>\n",
       "      <td>0.090909</td>\n",
       "      <td>1.000000</td>\n",
       "      <td>0.0</td>\n",
       "      <td>0.214286</td>\n",
       "      <td>...</td>\n",
       "      <td>0.250000</td>\n",
       "      <td>0.500000</td>\n",
       "      <td>0.500000</td>\n",
       "      <td>0.500000</td>\n",
       "      <td>0.750000</td>\n",
       "      <td>0.500000</td>\n",
       "      <td>0.500000</td>\n",
       "      <td>0.250000</td>\n",
       "      <td>0.250000</td>\n",
       "      <td>0.555556</td>\n",
       "    </tr>\n",
       "    <tr>\n",
       "      <th>143873</th>\n",
       "      <td>0.0</td>\n",
       "      <td>0.200000</td>\n",
       "      <td>1.0</td>\n",
       "      <td>0.818182</td>\n",
       "      <td>0.0</td>\n",
       "      <td>0.5</td>\n",
       "      <td>0.000000</td>\n",
       "      <td>0.888889</td>\n",
       "      <td>0.0</td>\n",
       "      <td>0.000000</td>\n",
       "      <td>...</td>\n",
       "      <td>0.750000</td>\n",
       "      <td>0.500000</td>\n",
       "      <td>0.500000</td>\n",
       "      <td>0.000000</td>\n",
       "      <td>0.250000</td>\n",
       "      <td>0.000000</td>\n",
       "      <td>0.500000</td>\n",
       "      <td>0.750000</td>\n",
       "      <td>0.000000</td>\n",
       "      <td>0.333333</td>\n",
       "    </tr>\n",
       "    <tr>\n",
       "      <th>143874</th>\n",
       "      <td>0.0</td>\n",
       "      <td>1.000000</td>\n",
       "      <td>0.2</td>\n",
       "      <td>0.090909</td>\n",
       "      <td>0.0</td>\n",
       "      <td>1.0</td>\n",
       "      <td>0.909091</td>\n",
       "      <td>0.000000</td>\n",
       "      <td>0.0</td>\n",
       "      <td>0.500000</td>\n",
       "      <td>...</td>\n",
       "      <td>0.750000</td>\n",
       "      <td>0.500000</td>\n",
       "      <td>0.500000</td>\n",
       "      <td>0.500000</td>\n",
       "      <td>0.750000</td>\n",
       "      <td>0.250000</td>\n",
       "      <td>0.500000</td>\n",
       "      <td>0.500000</td>\n",
       "      <td>0.250000</td>\n",
       "      <td>0.555556</td>\n",
       "    </tr>\n",
       "  </tbody>\n",
       "</table>\n",
       "<p>5 rows × 114 columns</p>\n",
       "</div>"
      ],
      "text/plain": [
       "        ANREDE_KZ  CJT_GESAMTTYP  FINANZTYP  GFK_URLAUBERTYP  \\\n",
       "LNR                                                            \n",
       "9626          0.0       0.800000        0.2         0.272727   \n",
       "9628          0.0       0.535586        0.2         0.482024   \n",
       "143872        1.0       0.200000        0.2         0.181818   \n",
       "143873        0.0       0.200000        1.0         0.818182   \n",
       "143874        0.0       1.000000        0.2         0.090909   \n",
       "\n",
       "        GREEN_AVANTGARDE  HEALTH_TYP  LP_FAMILIE_FEIN  LP_STATUS_FEIN  \\\n",
       "LNR                                                                     \n",
       "9626                 1.0         0.0         0.181818        1.000000   \n",
       "9628                 0.0         0.0         0.386768        0.631990   \n",
       "143872               1.0         0.5         0.090909        1.000000   \n",
       "143873               0.0         0.5         0.000000        0.888889   \n",
       "143874               0.0         1.0         0.909091        0.000000   \n",
       "\n",
       "        NATIONALITAET_KZ  PRAEGENDE_JUGENDJAHRE  ...  KBA13_HALTER_50  \\\n",
       "LNR                                              ...                    \n",
       "9626                 0.0               0.214286  ...         0.750000   \n",
       "9628                 0.0               0.334791  ...         0.475533   \n",
       "143872               0.0               0.214286  ...         0.250000   \n",
       "143873               0.0               0.000000  ...         0.750000   \n",
       "143874               0.0               0.500000  ...         0.750000   \n",
       "\n",
       "        KBA13_HALTER_55  KBA13_HALTER_60  KBA13_HALTER_65  KBA13_HALTER_66  \\\n",
       "LNR                                                                          \n",
       "9626           1.000000         1.000000         0.750000         0.500000   \n",
       "9628           0.495898         0.496301         0.584036         0.556427   \n",
       "143872         0.500000         0.500000         0.500000         0.750000   \n",
       "143873         0.500000         0.500000         0.000000         0.250000   \n",
       "143874         0.500000         0.500000         0.500000         0.750000   \n",
       "\n",
       "        PLZ8_BAUMAX  PLZ8_HHZ  PLZ8_GBZ    ARBEIT  ORTSGR_KLS9  \n",
       "LNR                                                             \n",
       "9626       0.000000  1.000000  1.000000  0.000000     0.222222  \n",
       "9628       0.139152  0.658723  0.655548  0.228106     0.568835  \n",
       "143872     0.500000  0.500000  0.250000  0.250000     0.555556  \n",
       "143873     0.000000  0.500000  0.750000  0.000000     0.333333  \n",
       "143874     0.250000  0.500000  0.500000  0.250000     0.555556  \n",
       "\n",
       "[5 rows x 114 columns]"
      ]
     },
     "execution_count": 25,
     "metadata": {},
     "output_type": "execute_result"
    }
   ],
   "source": [
    "customers_clean.head()"
   ]
  },
  {
   "cell_type": "markdown",
   "metadata": {},
   "source": [
    "### PCA\n",
    "\n",
    "We can use PCA to reduce the dimension of our data. One of the important parater for PCA process is n_components. I choosed 50. From the explanied_var function we can see that, 85% variance of the data has been captured by our PCA process with the n_components=50."
   ]
  },
  {
   "cell_type": "code",
   "execution_count": 26,
   "metadata": {},
   "outputs": [
    {
     "data": {
      "text/plain": [
       "PCA(n_components=50)"
      ]
     },
     "execution_count": 26,
     "metadata": {},
     "output_type": "execute_result"
    }
   ],
   "source": [
    "import numpy as np\n",
    "from sklearn.decomposition import PCA\n",
    "customers_X = customers_clean.values\n",
    "azdias_X = azdias_clean.values\n",
    "pca = PCA(n_components=50)\n",
    "pca.fit(customers_X)"
   ]
  },
  {
   "cell_type": "code",
   "execution_count": 27,
   "metadata": {},
   "outputs": [],
   "source": [
    "var_np = pca.explained_variance_ratio_"
   ]
  },
  {
   "cell_type": "code",
   "execution_count": 28,
   "metadata": {},
   "outputs": [],
   "source": [
    "def explanined_var(np,n_componets):\n",
    "    i = 0\n",
    "    explained_var = 0\n",
    "    while i<n_componets:\n",
    "        explained_var = explained_var + np[i]\n",
    "        i = i + 1\n",
    "    return explained_var"
   ]
  },
  {
   "cell_type": "code",
   "execution_count": 29,
   "metadata": {},
   "outputs": [
    {
     "name": "stdout",
     "output_type": "stream",
     "text": [
      "0.8523575797952553\n"
     ]
    }
   ],
   "source": [
    "explanined_variance = explanined_var(var_np,50)\n",
    "print(explanined_variance)"
   ]
  },
  {
   "cell_type": "code",
   "execution_count": 30,
   "metadata": {},
   "outputs": [
    {
     "data": {
      "text/plain": [
       "(191652, 50)"
      ]
     },
     "execution_count": 30,
     "metadata": {},
     "output_type": "execute_result"
    }
   ],
   "source": [
    "customers_pca = pca.transform(customers_X)\n",
    "customers_pca.shape"
   ]
  },
  {
   "cell_type": "code",
   "execution_count": 31,
   "metadata": {},
   "outputs": [
    {
     "data": {
      "text/plain": [
       "(891221, 50)"
      ]
     },
     "execution_count": 31,
     "metadata": {},
     "output_type": "execute_result"
    }
   ],
   "source": [
    "azdias_pca = pca.transform(azdias_X)\n",
    "azdias_pca.shape"
   ]
  },
  {
   "cell_type": "code",
   "execution_count": 32,
   "metadata": {},
   "outputs": [],
   "source": [
    "customers_pca_df = pd.DataFrame(customers_pca, index=customers.index)\n",
    "azdias_pca_df = pd.DataFrame(azdias_pca, index=azdias.index)"
   ]
  },
  {
   "cell_type": "code",
   "execution_count": 33,
   "metadata": {},
   "outputs": [
    {
     "name": "stdout",
     "output_type": "stream",
     "text": [
      "(191652, 50)\n",
      "(891221, 50)\n"
     ]
    }
   ],
   "source": [
    "print(customers_pca_df.shape)\n",
    "print(azdias_pca_df.shape)"
   ]
  },
  {
   "cell_type": "markdown",
   "metadata": {},
   "source": [
    "### Choose K clusters for K-means"
   ]
  },
  {
   "cell_type": "code",
   "execution_count": 34,
   "metadata": {},
   "outputs": [
    {
     "name": "stdout",
     "output_type": "stream",
     "text": [
      "For n_clusters = 13 The average silhouette_score is : 0.1886748212230266\n",
      "For n_clusters = 14 The average silhouette_score is : 0.19259809508881234\n",
      "For n_clusters = 15 The average silhouette_score is : 0.19240962316461996\n",
      "For n_clusters = 16 The average silhouette_score is : 0.1942616429789558\n"
     ]
    }
   ],
   "source": [
    "from sklearn.cluster import KMeans\n",
    "from sklearn.metrics import silhouette_samples, silhouette_score\n",
    "\n",
    "X = customers_pca_df.values\n",
    "\n",
    "cluster_list = [13,14,15,16]\n",
    "\n",
    "for n in cluster_list:\n",
    "    clusterer = KMeans(n_clusters=n, random_state=10)\n",
    "    labels = clusterer.fit_predict(X)\n",
    "\n",
    "    # Use silhouette_score to find the best cluster number.\n",
    "    silhouette = silhouette_score(X, labels)\n",
    "    print(\"For n_clusters =\", n,\n",
    "          \"The average silhouette_score is :\", silhouette)\n"
   ]
  },
  {
   "cell_type": "markdown",
   "metadata": {},
   "source": [
    "### K-means Customer Group Segmentation"
   ]
  },
  {
   "cell_type": "markdown",
   "metadata": {},
   "source": [
    "According to our silhouette_score:<br/>\n",
    "For n_clusters = 2 The average silhouette_score is : 0.17901421116635363<br/>\n",
    "For n_clusters = 3 The average silhouette_score is : 0.17144843232551113<br/>\n",
    "For n_clusters = 4 The average silhouette_score is : 0.18548645269641556<br/>\n",
    "For n_clusters = 5 The average silhouette_score is : 0.18951748899143575<br/>\n",
    "For n_clusters = 6 The average silhouette_score is : 0.19626502613419164<br/>\n",
    "For n_clusters = 7 The average silhouette_score is : 0.19794623465007988<br/>\n",
    "For n_clusters = 8 The average silhouette_score is : 0.1975584576362408<br/>\n",
    "For n_clusters = 9 The average silhouette_score is : 0.2025562541429389<br/>\n",
    "For n_clusters = 10 The average silhouette_score is : 0.2020959211536878<br/>\n",
    "For n_clusters = 11 The average silhouette_score is : 0.20290045542667645<br/>\n",
    "For n_clusters = 12 The average silhouette_score is : 0.18727972425048411<br/>\n",
    "For n_clusters = 13 The average silhouette_score is : 0.18972808734848196<br/>\n",
    "For n_clusters = 14 The average silhouette_score is : 0.19077473486719984<br/>\n",
    "For n_clusters = 15 The average silhouette_score is : 0.19457337532228255<br/>\n",
    "For n_clusters = 16 The average silhouette_score is : 0.19632406199537455<br/>\n",
    "\n",
    "n_clusters=11 has the best score, so we select n=11 for customers data.\n"
   ]
  },
  {
   "cell_type": "markdown",
   "metadata": {},
   "source": [
    "## Customer Segmentation Report\n",
    "\n",
    "Set parameter n_clusters=11 for K-means process. The 11 centriod will reflect the characteristics of 11 customer groups. For the populations in azdias data who is close to one of those 11 centriod, will more likely to became our customer. The following process will print out the 11 centriod."
   ]
  },
  {
   "cell_type": "code",
   "execution_count": 35,
   "metadata": {},
   "outputs": [],
   "source": [
    "Kmeans_clusterer = KMeans(n_clusters = 11, random_state=10)\n",
    "Final_cluster_labels = Kmeans_clusterer.fit_predict(X)"
   ]
  },
  {
   "cell_type": "code",
   "execution_count": 36,
   "metadata": {},
   "outputs": [
    {
     "data": {
      "text/plain": [
       "array([[-1.60260846e+00,  1.48242825e-01, -6.48260207e-01,\n",
       "         1.82952470e-01,  5.49400208e-02,  6.98498145e-02,\n",
       "         1.18471126e-01,  4.58629721e-02,  5.64132803e-02,\n",
       "        -2.23400899e-01, -9.99482043e-03,  4.87456793e-02,\n",
       "         5.70493493e-02,  2.59755762e-02, -3.46547755e-02,\n",
       "        -1.31245265e-02, -5.30274928e-02, -9.16559647e-02,\n",
       "        -3.34030307e-02, -4.18155163e-02,  1.72866602e-02,\n",
       "        -3.07382384e-02, -5.15692133e-02, -1.26962825e-02,\n",
       "        -3.40600245e-02, -3.49252237e-02,  5.49530647e-02,\n",
       "        -4.67244026e-03,  5.42287704e-02,  3.81105645e-03,\n",
       "        -2.98968760e-02, -1.98959684e-02, -1.91328449e-02,\n",
       "        -1.00661364e-01,  1.07254215e-02,  1.63105305e-02,\n",
       "        -1.25076210e-01, -1.68612299e-01, -7.35934502e-02,\n",
       "         1.19872414e-01, -2.30404209e-02,  6.37684982e-02,\n",
       "         1.66393045e-02, -5.73538062e-02,  1.54869624e-01,\n",
       "         4.84602656e-02, -4.12398327e-02, -3.50830479e-03,\n",
       "        -5.22654268e-02, -2.05730298e-02],\n",
       "       [ 1.36176855e+00,  5.04118019e-01, -6.37343821e-01,\n",
       "         1.01626274e-01, -5.33101463e-01,  2.71993237e-02,\n",
       "        -3.79879721e-01,  7.61347734e-02, -5.72795742e-03,\n",
       "        -2.69912103e-03,  1.82045257e-02, -4.99351979e-02,\n",
       "         1.05397338e-02,  2.61925569e-03, -1.27317999e-02,\n",
       "        -3.68255189e-02, -8.46193378e-02, -2.10975749e-02,\n",
       "         1.62689861e-02, -1.96697053e-02, -2.14920828e-03,\n",
       "        -1.99570953e-02, -3.00901994e-03, -4.32290167e-02,\n",
       "         4.30808498e-03,  4.59878850e-03,  3.55273855e-02,\n",
       "        -2.47532744e-02,  2.15869705e-02, -1.51635001e-02,\n",
       "         1.73336034e-03, -1.79093941e-02, -8.07713522e-03,\n",
       "        -5.40514715e-03,  2.23653755e-03,  1.28721537e-02,\n",
       "        -9.27026608e-03, -6.90358074e-04,  7.55680654e-03,\n",
       "        -5.72603587e-03, -5.59820024e-03, -1.51125852e-02,\n",
       "        -9.18000415e-03,  7.42051498e-03, -2.29325691e-02,\n",
       "        -2.10626809e-03,  4.35944025e-03, -8.07683479e-03,\n",
       "         1.77079736e-02,  3.48499885e-04],\n",
       "       [ 1.07414620e-01, -7.02687812e-01, -3.49001286e-01,\n",
       "        -5.03243708e-01, -5.98156886e-01,  1.55344809e-02,\n",
       "        -1.75452391e-01, -2.49057921e-02,  3.64187702e-02,\n",
       "         3.64504277e-02, -7.78496110e-03,  7.74572114e-04,\n",
       "        -3.57850783e-02, -4.60668999e-02,  3.08871466e-02,\n",
       "         2.06247834e-02,  2.23855558e-02,  4.23255981e-02,\n",
       "        -3.08790921e-03, -3.20946360e-02, -3.41129147e-02,\n",
       "        -1.97810785e-02,  4.72190271e-02,  2.08416204e-02,\n",
       "        -1.71140179e-02, -2.36956135e-02,  1.45446720e-02,\n",
       "        -2.05788498e-02,  5.23911287e-02,  5.86571202e-03,\n",
       "         5.57498496e-03, -1.82639057e-02, -1.68400836e-02,\n",
       "        -3.17987299e-03,  4.31169121e-02,  2.77800400e-03,\n",
       "         3.36550827e-02,  3.64957348e-02,  1.36829845e-02,\n",
       "        -3.58630509e-02, -1.57345547e-02, -6.82125320e-03,\n",
       "         3.60693921e-03, -2.57275159e-02,  1.80893210e-02,\n",
       "        -9.20306040e-03,  2.69138628e-02,  2.43552482e-02,\n",
       "        -2.69762810e-03,  1.63663842e-02],\n",
       "       [-8.04419019e-02, -7.40024339e-01,  4.81979321e-01,\n",
       "         9.72285010e-01, -6.55265923e-01,  5.42754883e-02,\n",
       "         2.78848699e-02, -2.10499507e-02,  1.67219738e-02,\n",
       "         3.14405649e-02,  1.79699446e-02,  2.49573106e-03,\n",
       "        -3.50204993e-02, -4.68072133e-02, -2.42798439e-03,\n",
       "         1.77165677e-02,  7.30427818e-03,  3.79329140e-03,\n",
       "         9.00002479e-03,  1.86264937e-02, -4.50059638e-03,\n",
       "        -9.86184975e-03,  4.13765468e-02, -1.27927925e-02,\n",
       "        -9.39271686e-03,  2.36383739e-02, -2.55245897e-02,\n",
       "        -3.07497342e-02, -3.69672894e-02,  1.90752264e-02,\n",
       "        -1.75123761e-03, -3.86521708e-02, -3.08757839e-02,\n",
       "         6.01723621e-03,  1.13132238e-02, -7.86059042e-03,\n",
       "        -1.65846011e-03,  1.08990622e-02,  2.02356880e-02,\n",
       "        -1.48403905e-03,  2.93728764e-02,  3.42802495e-03,\n",
       "         5.01624483e-03,  8.75605133e-03, -2.48045613e-03,\n",
       "        -7.72475257e-04, -4.66642885e-03, -9.84306258e-03,\n",
       "        -6.39779185e-03, -1.72917676e-02],\n",
       "       [-1.55945962e-01,  1.25651561e-01,  7.93827173e-01,\n",
       "        -9.09946806e-01,  2.89050129e-01,  5.53656766e-02,\n",
       "        -1.03107924e-01, -5.53458193e-02, -4.89910026e-02,\n",
       "         1.44341214e-01,  1.62397726e-05, -1.56271673e-02,\n",
       "        -3.62471320e-02, -1.92884284e-04,  3.24282954e-02,\n",
       "        -4.39518868e-03,  1.89357246e-02,  4.70564282e-02,\n",
       "         8.42650923e-03, -2.03702086e-03, -2.24130635e-02,\n",
       "         1.67405437e-02,  5.00047991e-03,  1.62480911e-02,\n",
       "         2.48236988e-02, -1.60657386e-03,  5.16513171e-03,\n",
       "        -1.04748477e-04,  1.66136053e-02,  1.14968711e-03,\n",
       "         1.11055769e-02,  1.54487507e-05, -7.91272146e-03,\n",
       "        -7.94199950e-03,  1.53369310e-02, -8.83703356e-03,\n",
       "         1.43853510e-02,  1.11647670e-02,  2.80016303e-02,\n",
       "        -1.49998160e-02,  5.01540780e-04, -7.80822584e-03,\n",
       "         2.34869974e-03, -2.74811861e-02,  3.27769020e-02,\n",
       "         3.53524925e-03,  5.75640825e-03,  1.87048922e-02,\n",
       "        -6.38191312e-03, -1.89805521e-02],\n",
       "       [ 9.57948215e-01,  1.28726061e+00,  5.06415109e-01,\n",
       "        -1.93240237e-01,  2.69047031e-01, -2.60183609e-01,\n",
       "        -1.23644149e-02, -1.12511488e-02, -7.15310082e-02,\n",
       "         7.71235229e-02,  5.71192205e-02, -9.85434767e-02,\n",
       "        -3.57833188e-02,  1.57643961e-02,  2.12723437e-02,\n",
       "        -1.12459684e-02,  5.59536592e-03,  3.36039821e-02,\n",
       "         4.85944846e-02,  3.42115796e-02,  2.95333953e-02,\n",
       "        -1.27826491e-02,  5.39585462e-02, -6.97982422e-03,\n",
       "        -2.00969257e-02,  4.46595448e-03, -3.61080565e-03,\n",
       "        -2.11468785e-02,  2.05730414e-03,  6.61330644e-03,\n",
       "         3.51708699e-03, -1.31620516e-03,  5.55802821e-04,\n",
       "        -1.07174450e-02,  7.25908767e-03, -3.99193403e-04,\n",
       "        -7.37150699e-03,  8.09920747e-03, -6.62016302e-03,\n",
       "         4.19133660e-03, -9.95722586e-03,  3.52440813e-04,\n",
       "        -3.81082798e-03, -7.90046698e-03,  3.12085385e-02,\n",
       "         5.96819298e-03,  5.83565876e-03,  9.89143824e-03,\n",
       "        -1.27262657e-02, -1.70934071e-03],\n",
       "       [-7.07394073e-01,  1.83144855e-01,  1.53569739e+00,\n",
       "         2.16873504e-01, -2.43143127e-01, -4.07889528e-02,\n",
       "        -5.87717973e-02, -4.53460377e-02,  2.79648100e-02,\n",
       "         1.37589478e-01, -4.57274970e-02,  3.46815185e-02,\n",
       "         2.64747502e-02, -4.33854567e-02, -1.86305772e-02,\n",
       "         8.77945783e-03, -1.88735981e-02,  2.77843533e-02,\n",
       "        -2.01212055e-04, -1.88923689e-02, -4.22191034e-02,\n",
       "         5.19559694e-02, -6.09224049e-03, -1.48799485e-02,\n",
       "        -5.43124606e-03, -8.96741708e-03, -3.77354470e-02,\n",
       "        -1.41881052e-03, -2.41162714e-02, -3.48696371e-03,\n",
       "        -5.82358940e-03, -6.33975124e-03,  1.07167505e-02,\n",
       "         3.07114114e-02, -1.76984458e-02,  5.22405848e-03,\n",
       "         1.94353034e-03, -3.98119956e-03,  8.85100588e-03,\n",
       "         4.46380575e-03,  1.00299629e-02,  2.07421356e-02,\n",
       "         1.23175457e-03,  7.03827217e-03, -1.89347424e-02,\n",
       "        -1.15335445e-03,  2.97181378e-03, -1.80105759e-02,\n",
       "        -8.65872755e-04,  8.96955916e-03],\n",
       "       [ 1.42297960e+00, -5.69949833e-02, -3.37041853e-01,\n",
       "         6.07700455e-01,  4.17831632e-01, -3.92756648e-01,\n",
       "        -2.10279101e-01,  1.52101334e-01, -4.42425342e-02,\n",
       "        -2.69666875e-02,  8.97026477e-04, -2.45410624e-02,\n",
       "         3.29697946e-02,  1.69002920e-02, -2.05879685e-02,\n",
       "        -2.44198682e-02, -6.65416411e-02, -4.04845456e-03,\n",
       "         2.40540044e-02, -3.06002511e-02,  1.20510988e-02,\n",
       "         4.41415194e-03, -4.46098688e-02,  1.29890920e-02,\n",
       "         1.79170534e-02, -2.70758444e-03,  8.75713429e-03,\n",
       "         1.46948812e-02, -1.06074888e-02, -7.47609829e-03,\n",
       "        -8.62050460e-03,  4.09932805e-02,  2.88852917e-02,\n",
       "         3.18144618e-03, -2.33551515e-02,  7.35764927e-03,\n",
       "        -2.94790363e-02,  3.77716377e-03, -8.18045011e-03,\n",
       "         2.65818279e-02, -6.26261798e-03, -4.30515576e-03,\n",
       "        -1.65985251e-02,  2.82664722e-02, -2.33625659e-02,\n",
       "        -2.13586797e-03,  1.14219932e-02,  4.63270811e-03,\n",
       "         1.86941059e-02,  3.43171796e-03],\n",
       "       [ 2.01227227e+00,  2.83389498e-01, -2.55516721e-01,\n",
       "        -7.24982367e-02, -7.06282907e-02,  4.29737450e-01,\n",
       "         6.38452108e-01, -1.45425579e-01,  2.07816379e-01,\n",
       "        -1.68616032e-01, -1.26482838e-01,  2.45718493e-01,\n",
       "         9.90757011e-02, -3.49940636e-02, -1.81304645e-02,\n",
       "         9.39375783e-02,  1.75042353e-01, -1.25625804e-02,\n",
       "        -1.06356224e-01,  2.14941206e-03,  5.01294476e-03,\n",
       "         5.33858011e-02, -5.79085810e-02,  4.69766165e-02,\n",
       "        -2.65482354e-02,  1.02353915e-02, -3.47817244e-02,\n",
       "         9.88115146e-02, -4.55938696e-02, -4.38586957e-02,\n",
       "        -5.47695529e-02, -2.38923031e-03, -2.60747974e-02,\n",
       "         1.14747630e-03, -1.39543748e-02, -1.81399319e-03,\n",
       "         6.57605538e-02, -5.94935961e-02, -2.25377849e-02,\n",
       "         3.51836779e-02,  1.75421926e-02,  4.25638873e-03,\n",
       "        -1.70017712e-02, -1.50639604e-03, -5.18929873e-02,\n",
       "        -5.49710180e-03, -1.24978395e-02,  1.57834827e-03,\n",
       "         1.34167971e-02,  7.37857940e-03],\n",
       "       [ 5.43195519e-01, -1.09557002e+00, -1.27015504e-01,\n",
       "        -4.67293948e-02,  4.76791346e-01,  6.46626986e-02,\n",
       "         4.52422218e-03, -5.54979351e-02, -4.28491006e-02,\n",
       "         1.56891603e-02,  2.00749730e-02, -1.67519767e-02,\n",
       "        -4.17087138e-02,  2.39237032e-02,  2.04720212e-02,\n",
       "        -2.79877427e-02,  1.22612633e-02,  8.86442616e-03,\n",
       "        -1.38187735e-03,  5.75030870e-02,  1.73131083e-02,\n",
       "        -3.97365523e-03,  2.91758917e-02, -7.73288792e-03,\n",
       "         9.70163249e-03,  1.07178988e-02, -2.28413024e-02,\n",
       "        -8.60140262e-03, -1.63900074e-02,  1.20212959e-02,\n",
       "         1.65133011e-02,  8.08098010e-03,  1.60298290e-02,\n",
       "         2.88987287e-03, -9.45540703e-03, -1.67068305e-02,\n",
       "         4.49489270e-03,  1.80726683e-02,  1.50389780e-02,\n",
       "        -2.05846176e-02,  3.17893571e-03,  3.15299064e-03,\n",
       "         7.12098538e-03, -5.48117307e-03,  1.69975975e-02,\n",
       "         2.22978319e-03, -5.67656479e-03,  2.90594036e-03,\n",
       "        -1.30771818e-02, -1.31437567e-02],\n",
       "       [-1.74024670e+00,  5.05900655e-01, -2.77499755e-01,\n",
       "        -3.56146046e-02,  2.10615912e-01,  1.03984063e-02,\n",
       "         2.02121896e-01,  3.69059374e-02, -4.58084280e-02,\n",
       "         1.06985335e-02,  1.87249750e-02, -3.91267213e-02,\n",
       "        -3.63859309e-04,  3.40177695e-02, -8.61622123e-03,\n",
       "         1.33954692e-02,  2.37629694e-02, -8.41912462e-03,\n",
       "         1.50431354e-02,  1.88561554e-02,  9.58723743e-03,\n",
       "         7.61988719e-03, -2.08929336e-02,  8.27010762e-03,\n",
       "         3.66026339e-02,  2.46067163e-02, -1.84491160e-02,\n",
       "         2.32261851e-02, -4.12493459e-02, -6.62946875e-04,\n",
       "         2.92847599e-02,  3.81867887e-02,  3.14374444e-02,\n",
       "         8.45012824e-02, -2.84042609e-02, -4.63811471e-03,\n",
       "         7.22391035e-02,  1.14457954e-01,  2.02959810e-02,\n",
       "        -8.27446944e-02,  1.36493883e-02, -5.34471248e-02,\n",
       "        -4.58718515e-03,  7.20985709e-02, -1.51318387e-01,\n",
       "        -3.90200647e-02,  1.08638092e-02, -2.13860287e-02,\n",
       "         5.05433508e-02,  3.20414394e-02]])"
      ]
     },
     "execution_count": 36,
     "metadata": {},
     "output_type": "execute_result"
    }
   ],
   "source": [
    "Kmeans_clusterer.cluster_centers_"
   ]
  }
 ],
 "metadata": {
  "kernelspec": {
   "display_name": "Python 3",
   "language": "python",
   "name": "python3"
  },
  "language_info": {
   "codemirror_mode": {
    "name": "ipython",
    "version": 3
   },
   "file_extension": ".py",
   "mimetype": "text/x-python",
   "name": "python",
   "nbconvert_exporter": "python",
   "pygments_lexer": "ipython3",
   "version": "3.7.6"
  }
 },
 "nbformat": 4,
 "nbformat_minor": 2
}
